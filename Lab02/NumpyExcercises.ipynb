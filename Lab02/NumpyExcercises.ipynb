{
 "metadata": {
  "kernelspec": {
   "language": "python",
   "display_name": "Python 3",
   "name": "python3"
  },
  "language_info": {
   "name": "python",
   "version": "3.10.14",
   "mimetype": "text/x-python",
   "codemirror_mode": {
    "name": "ipython",
    "version": 3
   },
   "pygments_lexer": "ipython3",
   "nbconvert_exporter": "python",
   "file_extension": ".py"
  },
  "kaggle": {
   "accelerator": "none",
   "dataSources": [],
   "dockerImageVersionId": 30775,
   "isInternetEnabled": true,
   "language": "python",
   "sourceType": "notebook",
   "isGpuEnabled": false
  },
  "colab": {
   "name": "RN-2024-Lab01",
   "provenance": [],
   "include_colab_link": true
  }
 },
 "nbformat_minor": 0,
 "nbformat": 4,
 "cells": [
  {
   "cell_type": "markdown",
   "metadata": {
    "id": "view-in-github",
    "colab_type": "text"
   },
   "source": [
    "<a href=\"https://colab.research.google.com/github/Tensor-Reloaded/Neural-Networks-Template-2024/blob/main/Lab02/NumpyExcercises.ipynb\" target=\"_parent\"><img src=\"https://colab.research.google.com/assets/colab-badge.svg\" alt=\"Open In Colab\"/></a>"
   ]
  },
  {
   "cell_type": "markdown",
   "source": [
    "# Excercises with numpy"
   ],
   "metadata": {
    "id": "1osmmLv1t8Vc"
   }
  },
  {
   "cell_type": "code",
   "source": [
    "%pip install timed-decorator"
   ],
   "metadata": {
    "colab": {
     "base_uri": "https://localhost:8080/"
    },
    "id": "R-psdy852TWD",
    "outputId": "81c31bfd-d099-4422-810a-699612394d98",
    "ExecuteTime": {
     "end_time": "2024-10-14T05:16:37.599466Z",
     "start_time": "2024-10-14T05:16:31.308636Z"
    }
   },
   "outputs": [
    {
     "name": "stdout",
     "output_type": "stream",
     "text": [
      "Collecting timed-decorator\n",
      "  Downloading timed_decorator-1.5.2-py3-none-any.whl.metadata (18 kB)\n",
      "Downloading timed_decorator-1.5.2-py3-none-any.whl (12 kB)\n",
      "Installing collected packages: timed-decorator\n",
      "Successfully installed timed-decorator-1.5.2\n",
      "Note: you may need to restart the kernel to use updated packages.\n"
     ]
    }
   ],
   "execution_count": 2
  },
  {
   "cell_type": "code",
   "source": [
    "import numpy as np\n",
    "from sklearn.metrics import confusion_matrix, accuracy_score, f1_score\n",
    "from timed_decorator.simple_timed import timed\n",
    "from typing import Tuple"
   ],
   "metadata": {
    "id": "Pv2iHv15vu67",
    "ExecuteTime": {
     "end_time": "2024-10-14T05:16:52.056956Z",
     "start_time": "2024-10-14T05:16:52.047197Z"
    }
   },
   "outputs": [],
   "execution_count": 4
  },
  {
   "cell_type": "code",
   "source": [
    "predicted = np.array([\n",
    "    1,1,1,0,1,0,1,1,0,0\n",
    "])\n",
    "actual = np.array([\n",
    "    1,1,1,1,0,0,1,0,0,0\n",
    "])\n",
    "\n",
    "big_size = 500000\n",
    "big_actual = np.repeat(actual, big_size)\n",
    "big_predicted = np.repeat(predicted, big_size)\n"
   ],
   "metadata": {
    "id": "7OOZ-UGxt77b",
    "ExecuteTime": {
     "end_time": "2024-10-14T05:16:53.639106Z",
     "start_time": "2024-10-14T05:16:53.563142Z"
    }
   },
   "outputs": [],
   "execution_count": 5
  },
  {
   "cell_type": "markdown",
   "source": [
    "If you are not familiar with the confusion matrix for binary classification, check https://www.geeksforgeeks.org/confusion-matrix-machine-learning/#what-is-a-confusion-matrix"
   ],
   "metadata": {
    "id": "WR9T8rfg94YQ"
   }
  },
  {
   "cell_type": "markdown",
   "source": [
    "### Exercise 1\n",
    "\n",
    "Implement a method to retrieve the confusion matrix values using numpy operations. Aim to make your method faster than the sklearn implementation."
   ],
   "metadata": {
    "id": "DlvLoCK835ta"
   }
  },
  {
   "cell_type": "code",
   "source": [
    "@timed(use_seconds=True, show_args=True)\n",
    "def tp_fp_fn_tn_sklearn(gt: np.ndarray, pred: np.ndarray) -> Tuple[int, ...]:\n",
    "    tn, fp, fn, tp = confusion_matrix(gt, pred).ravel()\n",
    "    return tp, fp, fn, tn\n",
    "\n",
    "\n",
    "@timed(use_seconds=True, show_args=True)\n",
    "def tp_fp_fn_tn_numpy(gt: np.ndarray, pred: np.ndarray) -> Tuple[int, ...]:\n",
    "    confusion = gt * 2 + pred\n",
    "    tp = np.sum(confusion == 3)\n",
    "    fp = np.sum(confusion == 1)\n",
    "    fn = np.sum(confusion == 2)\n",
    "    tn = gt.size - tp - fp - fn\n",
    "    return tp, fp, fn, tn\n",
    "\n",
    "\n",
    "assert tp_fp_fn_tn_sklearn(actual, predicted) == tp_fp_fn_tn_numpy(actual, predicted)"
   ],
   "metadata": {
    "id": "KXCV8jvPydpC",
    "ExecuteTime": {
     "end_time": "2024-10-14T05:59:07.557781Z",
     "start_time": "2024-10-14T05:59:07.311874Z"
    }
   },
   "outputs": [
    {
     "name": "stdout",
     "output_type": "stream",
     "text": [
      "tp_fp_fn_tn_sklearn(ndarray(10,), ndarray(10,)) -> total time: 0.001464600s\n",
      "tp_fp_fn_tn_numpy(ndarray(10,), ndarray(10,)) -> total time: 0.000107300s\n"
     ]
    }
   ],
   "execution_count": 63
  },
  {
   "cell_type": "code",
   "source": [
    "rez_1 = tp_fp_fn_tn_sklearn(big_actual, big_predicted)\n",
    "rez_2 = tp_fp_fn_tn_numpy(big_actual, big_predicted)\n",
    "\n",
    "assert rez_1 == rez_2"
   ],
   "metadata": {
    "id": "qlxFQ_1Pywjb",
    "ExecuteTime": {
     "end_time": "2024-10-14T05:59:25.801254Z",
     "start_time": "2024-10-14T05:59:24.257461Z"
    }
   },
   "outputs": [
    {
     "name": "stdout",
     "output_type": "stream",
     "text": [
      "tp_fp_fn_tn_sklearn(ndarray(5000000,), ndarray(5000000,)) -> total time: 1.283409100s\n",
      "tp_fp_fn_tn_numpy(ndarray(5000000,), ndarray(5000000,)) -> total time: 0.052882000s\n"
     ]
    }
   ],
   "execution_count": 68
  },
  {
   "cell_type": "markdown",
   "source": [
    "```\n",
    "tp_fp_fn_tn_sklearn(ndarray(5000000,), ndarray(5000000,)) -> total time: 1.362611559s\n",
    "tp_fp_fn_tn_numpy(ndarray(5000000,), ndarray(5000000,)) -> total time: 0.061580794s\n",
    "```"
   ],
   "metadata": {
    "id": "LuJUVV1c_Iu8"
   }
  },
  {
   "cell_type": "markdown",
   "source": [
    "### Exercise 2\n",
    "\n",
    "Implement a method to retrieve the calculate the accuracy using numpy operations."
   ],
   "metadata": {
    "id": "9VtOouGY-dGU"
   }
  },
  {
   "cell_type": "markdown",
   "source": [
    "Accuracy = $\\frac{TP + TN}{TP + FP + FN + TN}$"
   ],
   "metadata": {
    "id": "FrOvVlQi6Vqx"
   }
  },
  {
   "cell_type": "code",
   "source": [
    "@timed(use_seconds=True, show_args=True)\n",
    "def accuracy_sklearn(gt: np.ndarray, pred: np.ndarray) -> float:\n",
    "    return accuracy_score(gt, pred)\n",
    "\n",
    "\n",
    "@timed(use_seconds=True, show_args=True)\n",
    "def accuracy_numpy(gt: np.ndarray, pred: np.ndarray) -> float:\n",
    "    tp, fp, fn, tn = tp_fp_fn_tn_numpy(gt, pred)\n",
    "    return (tp + tn) / (tp + fp + fn + tn)\n",
    "\n",
    "\n",
    "\n",
    "assert accuracy_sklearn(actual, predicted) == accuracy_numpy(actual, predicted)"
   ],
   "metadata": {
    "id": "FvGCS4wo149M",
    "ExecuteTime": {
     "end_time": "2024-10-14T05:59:38.648429Z",
     "start_time": "2024-10-14T05:59:38.341595Z"
    }
   },
   "outputs": [
    {
     "name": "stdout",
     "output_type": "stream",
     "text": [
      "accuracy_sklearn(ndarray(10,), ndarray(10,)) -> total time: 0.003106500s\n",
      "tp_fp_fn_tn_numpy(ndarray(10,), ndarray(10,)) -> total time: 0.000103700s\n",
      "accuracy_numpy(ndarray(10,), ndarray(10,)) -> total time: 0.094870300s\n"
     ]
    }
   ],
   "execution_count": 69
  },
  {
   "cell_type": "code",
   "source": [
    "rez_1 = accuracy_sklearn(big_actual, big_predicted)\n",
    "rez_2 = accuracy_numpy(big_actual, big_predicted)\n",
    "\n",
    "assert np.isclose(rez_1, rez_2)"
   ],
   "metadata": {
    "id": "yYwMTAdX13RU",
    "ExecuteTime": {
     "end_time": "2024-10-14T05:59:40.130021Z",
     "start_time": "2024-10-14T05:59:39.111517Z"
    }
   },
   "outputs": [
    {
     "name": "stdout",
     "output_type": "stream",
     "text": [
      "accuracy_sklearn(ndarray(5000000,), ndarray(5000000,)) -> total time: 0.654098900s\n",
      "tp_fp_fn_tn_numpy(ndarray(5000000,), ndarray(5000000,)) -> total time: 0.045604500s\n",
      "accuracy_numpy(ndarray(5000000,), ndarray(5000000,)) -> total time: 0.137979500s\n"
     ]
    }
   ],
   "execution_count": 70
  },
  {
   "cell_type": "markdown",
   "source": [
    "```\n",
    "accuracy_sklearn(ndarray(5000000,), ndarray(5000000,)) -> total time: 0.737005607s\n",
    "accuracy_numpy(ndarray(5000000,), ndarray(5000000,)) -> total time: 0.045633154s\n",
    "```"
   ],
   "metadata": {
    "id": "Y4vOxFRX_DbN"
   }
  },
  {
   "cell_type": "markdown",
   "source": [
    "## Excercise 3\n",
    "\n",
    "Implement a method to calculate the F1-Score using numpy operations. Be careful at corner cases (divide by 0)."
   ],
   "metadata": {
    "id": "9a4kiUip-iaB"
   }
  },
  {
   "cell_type": "markdown",
   "source": [
    "Precision = $\\frac{TP}{TP + FP}$\n",
    "\n",
    "Recall = $\\frac{TP}{TP + FN}$\n",
    "\n",
    "F1-Score = $2 \\cdot \\frac{Precision \\cdot Recall}{Precision + Recall}$"
   ],
   "metadata": {
    "id": "xlVLJUKe6nLf"
   }
  },
  {
   "cell_type": "code",
   "source": [
    "@timed(use_seconds=True, show_args=True)\n",
    "def f1_score_sklearn(gt: np.ndarray, pred: np.ndarray) -> float:\n",
    "    return f1_score(gt, pred)\n",
    "\n",
    "@timed(use_seconds=True, show_args=True)\n",
    "def f1_score_numpy(gt: np.ndarray, pred: np.ndarray) -> float:\n",
    "    tp, fp, fn, tn = tp_fp_fn_tn_numpy(gt, pred)\n",
    "    precision = tp / (tp + fp)\n",
    "    recall = tp / (tp + fn)\n",
    "    f1_score_np = 2 * ((precision * recall) / (precision + recall))\n",
    "    \n",
    "    gt_sum = gt.sum()\n",
    "    pred_sum = pred.sum()\n",
    "    \n",
    "    \n",
    "    \n",
    "    \n",
    "    return f1_score_np\n",
    "\n",
    "assert f1_score_sklearn(actual, predicted).__round__(10) == f1_score_numpy(actual, predicted).__round__(10)"
   ],
   "metadata": {
    "id": "bf26jyp65jWp",
    "ExecuteTime": {
     "end_time": "2024-10-14T05:59:43.730499Z",
     "start_time": "2024-10-14T05:59:43.354841Z"
    }
   },
   "outputs": [
    {
     "name": "stdout",
     "output_type": "stream",
     "text": [
      "f1_score_sklearn(ndarray(10,), ndarray(10,)) -> total time: 0.005999100s\n",
      "tp_fp_fn_tn_numpy(ndarray(10,), ndarray(10,)) -> total time: 0.000196600s\n",
      "f1_score_numpy(ndarray(10,), ndarray(10,)) -> total time: 0.131636100s\n"
     ]
    }
   ],
   "execution_count": 71
  },
  {
   "cell_type": "code",
   "source": [
    "rez_1 = f1_score_sklearn(big_actual, big_predicted)\n",
    "rez_2 = f1_score_numpy(big_actual, big_predicted)\n",
    "\n",
    "assert np.isclose(rez_1, rez_2)"
   ],
   "metadata": {
    "id": "a2LsucKI5rB4",
    "ExecuteTime": {
     "end_time": "2024-10-14T06:00:05.713815Z",
     "start_time": "2024-10-14T06:00:02.825504Z"
    }
   },
   "outputs": [
    {
     "name": "stdout",
     "output_type": "stream",
     "text": [
      "f1_score_sklearn(ndarray(5000000,), ndarray(5000000,)) -> total time: 2.538559700s\n",
      "tp_fp_fn_tn_numpy(ndarray(5000000,), ndarray(5000000,)) -> total time: 0.045931900s\n",
      "f1_score_numpy(ndarray(5000000,), ndarray(5000000,)) -> total time: 0.146292800s\n"
     ]
    }
   ],
   "execution_count": 74
  },
  {
   "cell_type": "markdown",
   "source": [
    "```\n",
    "f1_score_sklearn(ndarray(5000000,), ndarray(5000000,)) -> total time: 5.300984584s\n",
    "f1_score_numpy(ndarray(5000000,), ndarray(5000000,)) -> total time: 0.042523483s\n",
    "```"
   ],
   "metadata": {
    "id": "uVLThSs4-9GP"
   }
  }
 ]
}
