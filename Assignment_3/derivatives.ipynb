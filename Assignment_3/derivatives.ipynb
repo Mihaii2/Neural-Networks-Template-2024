{
 "cells": [
  {
   "metadata": {},
   "cell_type": "markdown",
   "source": [
    "$$\n",
    "L = -\\sum_i y_i \\log(a_i)\n",
    "$$\n",
    "$$\n",
    "L = -\\sum_i y_i \\log \\left( \\frac{e^{z_i}}{\\sum_j e^{z_j}} \\right)\n",
    "$$\n",
    "$$\n",
    "L = -\\sum_i y_i \\left( \\log(e^{z_i}) - \\log \\left( \\sum_j e^{z_j} \\right) \\right)\n",
    "$$\n",
    "$$\n",
    "L = -\\sum_i y_i \\left( z_i - \\log \\sum_j e^{z_j} \\right)\n",
    "$$\n",
    "$$\n",
    "L = -\\sum_i y_i z_i + \\sum_i y_i \\log \\sum_j e^{z_j}\n",
    "$$"
   ],
   "id": "1f5b2572576a0ad3"
  },
  {
   "metadata": {},
   "cell_type": "markdown",
   "source": [
    "### The derivative of \\( L \\) with respect to \\( Z2 ) can be derived as follows:\n",
    "$$\n",
    "\\frac{\\partial}{\\partial z_k} \\left(-\\sum_i y_i z_i + \\sum_i y_i \\log \\sum_j e^{z_j} \\right) = -y_k + \\sum_i y_i \\cdot \\frac{\\partial}{\\partial z_k} \\log \\sum_j e^{z_j}\n",
    "$$\n",
    "\n",
    "Use the chain rule, we get:\n",
    "\n",
    "$$\n",
    "= -y_k + \\sum_i y_i \\cdot \\frac{1}{\\sum_j e^{z_j}} \\cdot e^{z_k} = -y_k + \\sum_i y_i \\cdot a_k\n",
    "$$\n",
    "\n",
    "For one-hot encoded labels, this simplifies to:\n",
    "\n",
    "$$\n",
    "= a_k - y_k\n",
    "$$"
   ],
   "id": "8f038c7d72d2dffe"
  },
  {
   "metadata": {},
   "cell_type": "markdown",
   "source": [
    "### The derivative of \\( Z2 \\) with respect to \\( W2 \\) can be derived as follows:\n",
    "$$\n",
    "Z2 = A1 \\cdot W2 + b2 \n",
    "$$\n",
    "\n",
    "$$\n",
    " \\frac{\\partial Z2}{\\partial W2} = A1 \n",
    "$$\n",
    "\n",
    "The derivative of the loss with respect to pre-activation is:\n",
    "$$\n",
    "\\frac{\\partial L}{\\partial Z2} = a_k - y_k \n",
    "$$\n",
    "\n",
    "Using the chain rule, the derivative of the loss with respect to \\( W2 \\) is:\n",
    "$$\n",
    "\\frac{\\partial L}{\\partial W2} = \\frac{\\partial Z2}{\\partial W2} \\cdot \\frac{\\partial L}{\\partial Z2}\n",
    "$$\n",
    "\n",
    "Therefore:\n",
    "$$\n",
    "\\frac{\\partial L}{\\partial W2} = A1^T \\cdot dZ2 \n",
    "$$"
   ],
   "id": "9c6251fb265b7bf1"
  },
  {
   "metadata": {},
   "cell_type": "markdown",
   "source": [
    "### The derivative of the cost function \\( L \\) with respect to \\( A1 \\) can be derived as follows:\n",
    "\n",
    "The derivative of the loss with respect to \\( Z2 \\) (pre-activation) is:\n",
    "$$ \n",
    "\\frac{\\partial L}{\\partial Z2} = a - y \n",
    "$$\n",
    "\n",
    "Using the chain rule, the derivative of the loss with respect to \\( A1 \\) is:\n",
    "$$ \n",
    "\\frac{\\partial L}{\\partial A1} = \\frac{\\partial L}{\\partial Z2} \\cdot \\frac{\\partial Z2}{\\partial A1}\n",
    "$$\n",
    "\n",
    "$$ \n",
    "Z2 = A1 \\cdot W2 + b2 \n",
    "$$\n",
    "$$ \n",
    "\\frac{\\partial Z2}{\\partial A1} = W2 \n",
    "$$\n",
    "\n",
    "Therefore:\n",
    "$$ \\frac{\\partial L}{\\partial A1} = \\frac{\\partial L}{\\partial Z2} \\cdot W2^T $$"
   ],
   "id": "48bae1edf55426b7"
  }
 ],
 "metadata": {
  "kernelspec": {
   "display_name": "Python 3",
   "language": "python",
   "name": "python3"
  },
  "language_info": {
   "codemirror_mode": {
    "name": "ipython",
    "version": 2
   },
   "file_extension": ".py",
   "mimetype": "text/x-python",
   "name": "python",
   "nbconvert_exporter": "python",
   "pygments_lexer": "ipython2",
   "version": "2.7.6"
  }
 },
 "nbformat": 4,
 "nbformat_minor": 5
}
